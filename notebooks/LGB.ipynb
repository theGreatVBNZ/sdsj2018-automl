{
 "cells": [
  {
   "cell_type": "code",
   "execution_count": 1,
   "metadata": {},
   "outputs": [
    {
     "name": "stderr",
     "output_type": "stream",
     "text": [
      "/Library/Frameworks/Python.framework/Versions/3.6/lib/python3.6/site-packages/lightgbm/__init__.py:45: FutureWarning: Starting from version 2.2.1, the library file in distribution wheels for macOS will be built by the Apple Clang compiler.\n",
      "This means that in case of installing LightGBM from PyPI via the ``pip install lightgbm`` command, you won't need to install the gcc compiler anymore.\n",
      "Instead of that, you'll need to install the OpenMP library, which is required for running LightGBM on the system with the Apple Clang compiler.\n",
      "You can install the OpenMP library by the following command: ``brew install libomp``.\n",
      "  \"You can install the OpenMP library by the following command: ``brew install libomp``.\", FutureWarning)\n"
     ]
    }
   ],
   "source": [
    "import time\n",
    "from functools import partial\n",
    "from IPython.display import display\n",
    "from itertools import product\n",
    "\n",
    "import numpy as np\n",
    "import pandas as pd\n",
    "import matplotlib.pyplot as plt\n",
    "import lightgbm as lgb\n",
    "from sklearn.linear_model import Ridge, LogisticRegression\n",
    "from sklearn.preprocessing import StandardScaler\n",
    "from sklearn.model_selection import train_test_split\n",
    "from sklearn.metrics import mean_squared_error, roc_auc_score\n",
    "\n",
    "from utils import (\n",
    "    load, \n",
    "    transform_datetime_features,\n",
    "    transform_data,\n",
    "    make_predictions,\n",
    "    predict,\n",
    "    root_mean_squared_error,\n",
    "    pprint\n",
    ")"
   ]
  },
  {
   "cell_type": "code",
   "execution_count": 2,
   "metadata": {},
   "outputs": [],
   "source": [
    "def assess_lightgbm(params, task, folds=10):\n",
    "#     print('----------------------------\\n', model, '\\n')\n",
    "    pprint(f'Task: {task}',)\n",
    "    start_time = time.time()\n",
    "    train_err, valid_err, test_err = [], [], []\n",
    "    for i in range(folds):\n",
    "        df_x, target = load(task, 'train')\n",
    "        _, y_test = load(task, 'test-target')\n",
    "        x_test, _ = load(task, 'test')\n",
    "\n",
    "        x_train, x_valid, y_train, y_valid = train_test_split(df_x, target, test_size=.2, random_state=i * 1234)\n",
    "\n",
    "        pipeline, x_train = transform_data(x_train, y_train)\n",
    "\n",
    "#         model.fit(x_train, y_train)\n",
    "        model = lgb.train(params, lgb.Dataset(x_train, label=y_train), 600)\n",
    "        pipeline.append(partial(make_predictions, model=model))\n",
    "\n",
    "        if task < 4:\n",
    "            train_predictions = make_predictions(x_train, model)\n",
    "            train_rmse = root_mean_squared_error(y_train, train_predictions)\n",
    "            train_err.append(train_rmse)\n",
    "\n",
    "            valid_predictions = predict(x_valid, pipeline)\n",
    "            valid_rmse = root_mean_squared_error(y_valid, valid_predictions)\n",
    "            valid_err.append(valid_rmse)\n",
    "\n",
    "            test_predictions = predict(x_test, pipeline)\n",
    "            test_rmse = root_mean_squared_error(y_test, test_predictions)\n",
    "            test_err.append(test_rmse)\n",
    "        else:\n",
    "            train_predictions = make_predictions(x_train, model)\n",
    "            train_auc = roc_auc_score(y_train, train_predictions)\n",
    "            train_err.append(train_auc)\n",
    "\n",
    "            valid_predictions = predict(x_valid, pipeline)\n",
    "            valid_auc = roc_auc_score(y_valid, valid_predictions)\n",
    "            valid_err.append(valid_auc)\n",
    "\n",
    "            test_predictions = predict(x_test, pipeline)\n",
    "            test_auc = roc_auc_score(y_test, test_predictions)\n",
    "            test_err.append(test_auc)\n",
    "\n",
    "    #     print('----------------------------')\n",
    "    #     print(f'Train RMSE: {train_rmse}, \\nValidation RMSE: {valid_rmse}, \\nTest RMSE: {test_rmse}')\n",
    "    #     print('----------------------------')\n",
    "    df_err = pd.DataFrame(dict(train=train_err, valid=valid_err, test=test_err))\n",
    "    display(df_err.mean())\n",
    "    df_err.plot(kind='bar')\n",
    "    plt.show()\n",
    "    print('Elapsed Time: ', time.time() - start_time)\n",
    "    print('----------------------------')\n",
    "    return df_err"
   ]
  },
  {
   "cell_type": "code",
   "execution_count": 3,
   "metadata": {},
   "outputs": [],
   "source": [
    "params =  {\n",
    "    'task': 'train',\n",
    "    'boosting_type': 'gbdt',\n",
    "    'objective': 'regression', #if args.mode == 'regression' else 'binary',\n",
    "    'metric': 'rmse',\n",
    "    \"learning_rate\": 0.01,\n",
    "    \"num_leaves\": 200,\n",
    "    \"feature_fraction\": 0.70,\n",
    "    \"bagging_fraction\": 0.70,\n",
    "    'bagging_freq': 4,\n",
    "    \"max_depth\": -1,\n",
    "    \"verbosity\" : -1,\n",
    "    \"reg_alpha\": 0.3,\n",
    "    \"reg_lambda\": 0.1,\n",
    "    #\"min_split_gain\":0.2,\n",
    "    \"min_child_weight\":10,\n",
    "    'zero_as_missing':True,\n",
    "    'num_threads': 4,\n",
    "}"
   ]
  },
  {
   "cell_type": "code",
   "execution_count": 4,
   "metadata": {},
   "outputs": [
    {
     "name": "stdout",
     "output_type": "stream",
     "text": [
      "------------------------------------\n",
      "Task: 1\n",
      "----------***************-----------\n"
     ]
    },
    {
     "data": {
      "text/plain": [
       "test     11.527752\n",
       "train     6.299530\n",
       "valid    10.644853\n",
       "dtype: float64"
      ]
     },
     "metadata": {},
     "output_type": "display_data"
    },
    {
     "data": {
      "image/png": "[encoded data removed]",
      "text/plain": [
       "<Figure size 432x288 with 1 Axes>"
      ]
     },
     "metadata": {},
     "output_type": "display_data"
    },
    {
     "name": "stdout",
     "output_type": "stream",
     "text": [
      "Elapsed Time:  2.43400502204895\n",
      "----------------------------\n"
     ]
    }
   ],
   "source": [
    "metrics = []\n",
    "for task in range(1, 2):\n",
    "    metrics.append(assess_lightgbm(params, task=task, folds=3))"
   ]
  },
  {
   "cell_type": "code",
   "execution_count": 20,
   "metadata": {},
   "outputs": [
    {
     "data": {
      "text/html": [
       "<div>\n",
       "<style scoped>\n",
       "    .dataframe tbody tr th:only-of-type {\n",
       "        vertical-align: middle;\n",
       "    }\n",
       "\n",
       "    .dataframe tbody tr th {\n",
       "        vertical-align: top;\n",
       "    }\n",
       "\n",
       "    .dataframe thead th {\n",
       "        text-align: right;\n",
       "    }\n",
       "</style>\n",
       "<table border=\"1\" class=\"dataframe\">\n",
       "  <thead>\n",
       "    <tr style=\"text-align: right;\">\n",
       "      <th></th>\n",
       "      <th>test</th>\n",
       "      <th>train</th>\n",
       "      <th>valid</th>\n",
       "    </tr>\n",
       "  </thead>\n",
       "  <tbody>\n",
       "    <tr>\n",
       "      <th>0</th>\n",
       "      <td>11.519624</td>\n",
       "      <td>6.327326</td>\n",
       "      <td>11.271890</td>\n",
       "    </tr>\n",
       "    <tr>\n",
       "      <th>1</th>\n",
       "      <td>11.851040</td>\n",
       "      <td>5.628243</td>\n",
       "      <td>12.539735</td>\n",
       "    </tr>\n",
       "    <tr>\n",
       "      <th>2</th>\n",
       "      <td>11.212593</td>\n",
       "      <td>6.943022</td>\n",
       "      <td>8.122935</td>\n",
       "    </tr>\n",
       "    <tr>\n",
       "      <th>0</th>\n",
       "      <td>1.218781</td>\n",
       "      <td>0.741120</td>\n",
       "      <td>1.018673</td>\n",
       "    </tr>\n",
       "    <tr>\n",
       "      <th>1</th>\n",
       "      <td>1.217567</td>\n",
       "      <td>0.751986</td>\n",
       "      <td>0.967375</td>\n",
       "    </tr>\n",
       "    <tr>\n",
       "      <th>2</th>\n",
       "      <td>1.204746</td>\n",
       "      <td>0.750125</td>\n",
       "      <td>0.964003</td>\n",
       "    </tr>\n",
       "    <tr>\n",
       "      <th>0</th>\n",
       "      <td>110035.772947</td>\n",
       "      <td>88199.792336</td>\n",
       "      <td>97439.952112</td>\n",
       "    </tr>\n",
       "    <tr>\n",
       "      <th>1</th>\n",
       "      <td>109947.894899</td>\n",
       "      <td>88399.819093</td>\n",
       "      <td>96541.986741</td>\n",
       "    </tr>\n",
       "    <tr>\n",
       "      <th>2</th>\n",
       "      <td>109942.542935</td>\n",
       "      <td>88315.500850</td>\n",
       "      <td>97210.469681</td>\n",
       "    </tr>\n",
       "    <tr>\n",
       "      <th>0</th>\n",
       "      <td>0.770701</td>\n",
       "      <td>0.896876</td>\n",
       "      <td>0.772461</td>\n",
       "    </tr>\n",
       "    <tr>\n",
       "      <th>1</th>\n",
       "      <td>0.770313</td>\n",
       "      <td>0.896099</td>\n",
       "      <td>0.774749</td>\n",
       "    </tr>\n",
       "    <tr>\n",
       "      <th>2</th>\n",
       "      <td>0.770278</td>\n",
       "      <td>0.895866</td>\n",
       "      <td>0.777204</td>\n",
       "    </tr>\n",
       "    <tr>\n",
       "      <th>0</th>\n",
       "      <td>0.779063</td>\n",
       "      <td>0.799913</td>\n",
       "      <td>0.783535</td>\n",
       "    </tr>\n",
       "    <tr>\n",
       "      <th>1</th>\n",
       "      <td>0.779154</td>\n",
       "      <td>0.800105</td>\n",
       "      <td>0.783214</td>\n",
       "    </tr>\n",
       "    <tr>\n",
       "      <th>2</th>\n",
       "      <td>0.779005</td>\n",
       "      <td>0.800280</td>\n",
       "      <td>0.782601</td>\n",
       "    </tr>\n",
       "    <tr>\n",
       "      <th>0</th>\n",
       "      <td>0.656827</td>\n",
       "      <td>0.865653</td>\n",
       "      <td>0.659623</td>\n",
       "    </tr>\n",
       "    <tr>\n",
       "      <th>1</th>\n",
       "      <td>0.657387</td>\n",
       "      <td>0.865775</td>\n",
       "      <td>0.655421</td>\n",
       "    </tr>\n",
       "    <tr>\n",
       "      <th>2</th>\n",
       "      <td>0.656579</td>\n",
       "      <td>0.866094</td>\n",
       "      <td>0.658345</td>\n",
       "    </tr>\n",
       "    <tr>\n",
       "      <th>0</th>\n",
       "      <td>0.762308</td>\n",
       "      <td>0.999874</td>\n",
       "      <td>0.756604</td>\n",
       "    </tr>\n",
       "    <tr>\n",
       "      <th>1</th>\n",
       "      <td>0.771336</td>\n",
       "      <td>0.999873</td>\n",
       "      <td>0.762683</td>\n",
       "    </tr>\n",
       "    <tr>\n",
       "      <th>2</th>\n",
       "      <td>0.780075</td>\n",
       "      <td>0.999879</td>\n",
       "      <td>0.758452</td>\n",
       "    </tr>\n",
       "    <tr>\n",
       "      <th>0</th>\n",
       "      <td>0.873877</td>\n",
       "      <td>0.996793</td>\n",
       "      <td>0.866407</td>\n",
       "    </tr>\n",
       "    <tr>\n",
       "      <th>1</th>\n",
       "      <td>0.870948</td>\n",
       "      <td>0.997209</td>\n",
       "      <td>0.871062</td>\n",
       "    </tr>\n",
       "    <tr>\n",
       "      <th>2</th>\n",
       "      <td>0.872476</td>\n",
       "      <td>0.996833</td>\n",
       "      <td>0.861280</td>\n",
       "    </tr>\n",
       "  </tbody>\n",
       "</table>\n",
       "</div>"
      ],
      "text/plain": [
       "            test         train         valid\n",
       "0      11.519624      6.327326     11.271890\n",
       "1      11.851040      5.628243     12.539735\n",
       "2      11.212593      6.943022      8.122935\n",
       "0       1.218781      0.741120      1.018673\n",
       "1       1.217567      0.751986      0.967375\n",
       "2       1.204746      0.750125      0.964003\n",
       "0  110035.772947  88199.792336  97439.952112\n",
       "1  109947.894899  88399.819093  96541.986741\n",
       "2  109942.542935  88315.500850  97210.469681\n",
       "0       0.770701      0.896876      0.772461\n",
       "1       0.770313      0.896099      0.774749\n",
       "2       0.770278      0.895866      0.777204\n",
       "0       0.779063      0.799913      0.783535\n",
       "1       0.779154      0.800105      0.783214\n",
       "2       0.779005      0.800280      0.782601\n",
       "0       0.656827      0.865653      0.659623\n",
       "1       0.657387      0.865775      0.655421\n",
       "2       0.656579      0.866094      0.658345\n",
       "0       0.762308      0.999874      0.756604\n",
       "1       0.771336      0.999873      0.762683\n",
       "2       0.780075      0.999879      0.758452\n",
       "0       0.873877      0.996793      0.866407\n",
       "1       0.870948      0.997209      0.871062\n",
       "2       0.872476      0.996833      0.861280"
      ]
     },
     "execution_count": 20,
     "metadata": {},
     "output_type": "execute_result"
    }
   ],
   "source": [
    "pd.concat(metrics)"
   ]
  },
  {
   "cell_type": "code",
   "execution_count": 2,
   "metadata": {},
   "outputs": [
    {
     "name": "stdout",
     "output_type": "stream",
     "text": [
      "------------------------------------\n",
      "['datetime_0']\n",
      "----------***************-----------\n"
     ]
    }
   ],
   "source": [
    "task = 1\n",
    "df_x, target = load(task, 'train')\n",
    "_, y_test = load(task, 'test-target')\n",
    "x_test, _ = load(task, 'test')\n",
    "\n",
    "x_train, x_valid, y_train, y_valid = train_test_split(df_x, target, test_size=.2, random_state=1234)\n",
    "\n",
    "pipeline, x_train = transform_data(x_train, y_train)"
   ]
  },
  {
   "cell_type": "code",
   "execution_count": 3,
   "metadata": {},
   "outputs": [
    {
     "data": {
      "text/plain": [
       "Index(['number_0', 'number_1', 'number_2', 'number_3', 'number_4', 'number_5',\n",
       "       'number_6', 'number_7', 'number_8', 'number_9', 'number_10',\n",
       "       'number_11', 'number_12', 'number_13', 'number_14', 'number_15',\n",
       "       'number_16', 'number_17', 'number_18', 'number_19', 'number_20',\n",
       "       'number_21', 'number_22', 'number_23', 'number_24', 'number_25',\n",
       "       'number_26', 'number_27', 'number_28', 'number_29', 'number_30',\n",
       "       'number_31', 'number_32', 'number_33', 'number_34', 'number_35',\n",
       "       'number_36', 'number_37', 'number_38', 'dt_number_weekday_datetime_0',\n",
       "       'dt_number_month_datetime_0', 'dt_number_day_datetime_0',\n",
       "       'dt_number_hour_of_week_datetime_0',\n",
       "       'onehot_number_5=0.7272727272727273',\n",
       "       'onehot_number_5=0.3636363636363637',\n",
       "       'onehot_number_5=0.18181818181818185',\n",
       "       'onehot_number_5=0.4545454545454545',\n",
       "       'onehot_number_5=0.6363636363636364', 'onehot_number_5=1.0',\n",
       "       'onehot_number_5=0.9090909090909092'],\n",
       "      dtype='object')"
      ]
     },
     "execution_count": 3,
     "metadata": {},
     "output_type": "execute_result"
    }
   ],
   "source": [
    "x_train.columns"
   ]
  },
  {
   "cell_type": "code",
   "execution_count": 4,
   "metadata": {},
   "outputs": [
    {
     "data": {
      "text/plain": [
       "[functools.partial(<function transform_datetime_features at 0x113f96730>, datetime_columns=['datetime_0']),\n",
       " functools.partial(<function drop_columns at 0x113f96840>, cols=['dt_number_hour_datetime_0', 'dt_number_minute_of_day_datetime_0']),\n",
       " functools.partial(<function one_hot_encoding at 0x113f96950>, categorical={'number_5': array([ 0.72727273,  0.36363636,  0.18181818,  0.45454545,  0.63636364,\n",
       "         1.        ,  0.90909091])}),\n",
       " functools.partial(<function fill_missings at 0x113f96a60>, columns=[]),\n",
       " functools.partial(<function keep_columns at 0x113f96b70>, columns=['number_0', 'number_1', 'number_2', 'number_3', 'number_4', 'number_5', 'number_6', 'number_7', 'number_8', 'number_9', 'number_10', 'number_11', 'number_12', 'number_13', 'number_14', 'number_15', 'number_16', 'number_17', 'number_18', 'number_19', 'number_20', 'number_21', 'number_22', 'number_23', 'number_24', 'number_25', 'number_26', 'number_27', 'number_28', 'number_29', 'number_30', 'number_31', 'number_32', 'number_33', 'number_34', 'number_35', 'number_36', 'number_37', 'number_38', 'dt_number_weekday_datetime_0', 'dt_number_month_datetime_0', 'dt_number_day_datetime_0', 'dt_number_hour_of_week_datetime_0', 'onehot_number_5=0.7272727272727273', 'onehot_number_5=0.3636363636363637', 'onehot_number_5=0.18181818181818185', 'onehot_number_5=0.4545454545454545', 'onehot_number_5=0.6363636363636364', 'onehot_number_5=1.0', 'onehot_number_5=0.9090909090909092']),\n",
       " functools.partial(<function scale at 0x113f96c80>, scaler=StandardScaler(copy=True, with_mean=True, with_std=True))]"
      ]
     },
     "execution_count": 4,
     "metadata": {},
     "output_type": "execute_result"
    }
   ],
   "source": [
    "pipeline"
   ]
  },
  {
   "cell_type": "code",
   "execution_count": null,
   "metadata": {},
   "outputs": [],
   "source": []
  }
 ],
 "metadata": {
  "kernelspec": {
   "display_name": "Python 3",
   "language": "python",
   "name": "python3"
  },
  "language_info": {
   "codemirror_mode": {
    "name": "ipython",
    "version": 3
   },
   "file_extension": ".py",
   "mimetype": "text/x-python",
   "name": "python",
   "nbconvert_exporter": "python",
   "pygments_lexer": "ipython3",
   "version": "3.6.3"
  }
 },
 "nbformat": 4,
 "nbformat_minor": 2
}
