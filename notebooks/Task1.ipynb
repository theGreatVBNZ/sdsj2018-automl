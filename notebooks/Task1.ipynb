{
 "cells": [
  {
   "cell_type": "markdown",
   "metadata": {},
   "source": [
    "### Base Line"
   ]
  },
  {
   "cell_type": "code",
   "execution_count": 330,
   "metadata": {},
   "outputs": [],
   "source": [
    "from functools import partial\n",
    "from IPython.display import display\n",
    "from itertools import product\n",
    "\n",
    "import numpy as np\n",
    "import pandas as pd\n",
    "import matplotlib.pyplot as plt\n",
    "from sklearn.linear_model import Ridge, LogisticRegression\n",
    "from sklearn.preprocessing import StandardScaler\n",
    "from sklearn.model_selection import train_test_split\n",
    "from sklearn.metrics import mean_squared_error\n",
    "\n",
    "from utils import load, transform_datetime_features"
   ]
  },
  {
   "cell_type": "markdown",
   "metadata": {},
   "source": [
    "Preprocessing"
   ]
  },
  {
   "cell_type": "code",
   "execution_count": 133,
   "metadata": {},
   "outputs": [],
   "source": [
    "def constant_features(df_x):\n",
    "    constant_columns = [\n",
    "        col_name\n",
    "        for col_name in df_x.columns\n",
    "        if df_x[col_name].nunique() == 1\n",
    "    ]\n",
    "    return constant_columns"
   ]
  },
  {
   "cell_type": "code",
   "execution_count": 270,
   "metadata": {},
   "outputs": [],
   "source": [
    "def drop_columns(df_x, cols):\n",
    "    return df_x.drop(cols, axis=1)"
   ]
  },
  {
   "cell_type": "code",
   "execution_count": 135,
   "metadata": {},
   "outputs": [],
   "source": [
    "def select_for_encoding(df_x, max_unique=20):\n",
    "    categorical = {}\n",
    "    for col_name in list(df_x.columns):\n",
    "        col_unique_values = df_x[col_name].unique()\n",
    "        if 2 < len(col_unique_values) <= max_unique:\n",
    "            categorical[col_name] = col_unique_values\n",
    "    return categorical"
   ]
  },
  {
   "cell_type": "code",
   "execution_count": 136,
   "metadata": {},
   "outputs": [],
   "source": [
    "def one_hot_encoding(df_x, categorical):\n",
    "    df_dummies = pd.DataFrame()\n",
    "    for col_name, unique_values in categorical.items():\n",
    "        for unique_value in unique_values:\n",
    "            df_dummies[f'onehot_{col_name}={unique_value}'] = (df_x[col_name] == unique_value).astype(int)\n",
    "    return pd.concat([df_x, df_dummies], axis=1)"
   ]
  },
  {
   "cell_type": "code",
   "execution_count": 171,
   "metadata": {},
   "outputs": [],
   "source": [
    "def find_missings(df_x):\n",
    "    columns_with_missings = df_x.columns[df_x.isna().any()].tolist()\n",
    "    return columns_with_missings"
   ]
  },
  {
   "cell_type": "code",
   "execution_count": 172,
   "metadata": {},
   "outputs": [],
   "source": [
    "def fill_missings(df_x, columns):\n",
    "    df_x = df_x.copy()\n",
    "    for col_name in columns:\n",
    "        df_x[col_name].fillna(-1, inplace=True)\n",
    "    return df_x"
   ]
  },
  {
   "cell_type": "code",
   "execution_count": 173,
   "metadata": {},
   "outputs": [],
   "source": [
    "def select_numeric_columns(df_x):\n",
    "    numeric_columns = [\n",
    "        col_name\n",
    "        for col_name in df_x.columns\n",
    "        if col_name.startswith('number') or col_name.startswith('onehot')\n",
    "    ]\n",
    "    return numeric_columns"
   ]
  },
  {
   "cell_type": "code",
   "execution_count": 174,
   "metadata": {},
   "outputs": [],
   "source": [
    "def keep_columns(df_x, columns):\n",
    "    return df_x[columns].copy()"
   ]
  },
  {
   "cell_type": "code",
   "execution_count": 185,
   "metadata": {},
   "outputs": [],
   "source": [
    "def create_scaler(df_x):\n",
    "    scaler = StandardScaler()\n",
    "    scaler.fit(df_x)\n",
    "    return scaler"
   ]
  },
  {
   "cell_type": "code",
   "execution_count": 296,
   "metadata": {},
   "outputs": [],
   "source": [
    "def scale(df_x, scaler):\n",
    "    df_scaled = scaler.transform(df_x)\n",
    "    return pd.DataFrame(data=df_scaled, columns=df_x.columns)"
   ]
  },
  {
   "cell_type": "code",
   "execution_count": 297,
   "metadata": {},
   "outputs": [],
   "source": [
    "def make_predictions(df_transformed, model):\n",
    "    predictions = model.predict(df_transformed)\n",
    "    return predictions"
   ]
  },
  {
   "cell_type": "markdown",
   "metadata": {},
   "source": [
    "### Архитектура\n",
    "Функции деляться на добытчиков (miner) и преобразователей (transformer). Добытчик извлекает правила преобразования на основе обучающего множества. Преобразователь применяет правила, извлеченные добытчиком к данным. Такая архитектура позволяет безболезненно переносить модели с x_train на x_test, даже если в данных имеются весомые различия (например x_test не имеет каких-то уровней категориальных переменных, что могло бы повлечь ошибки one-hot-encoding)"
   ]
  },
  {
   "cell_type": "markdown",
   "metadata": {},
   "source": [
    "Modify"
   ]
  },
  {
   "cell_type": "code",
   "execution_count": 298,
   "metadata": {},
   "outputs": [],
   "source": [
    "def transform_data(df_x, target):\n",
    "    pipeline = []\n",
    "\n",
    "    constant_columns = constant_features(df_x)\n",
    "    df_x = drop_columns(df_x, cols=constant_columns)\n",
    "    pipeline.append(partial(drop_columns, cols=constant_columns))\n",
    "\n",
    "    categorical = select_for_encoding(df_x, max_unique=20)\n",
    "    df_x = one_hot_encoding(df_x, categorical=categorical)\n",
    "    pipeline.append(partial(one_hot_encoding, categorical=categorical))\n",
    "\n",
    "    columns_with_missings = find_missings(df_x)\n",
    "    df_x = fill_missings(df_x, columns=columns_with_missings)\n",
    "    pipeline.append(partial(fill_missings, columns=columns_with_missings))\n",
    "\n",
    "    numeric_columns = select_numeric_columns(df_x)\n",
    "    df_x = keep_columns(df_x, columns=numeric_columns)\n",
    "    pipeline.append(partial(keep_columns, columns=numeric_columns))\n",
    "\n",
    "    scaler = create_scaler(df_x)\n",
    "    df_x = scale(df_x, scaler)\n",
    "    pipeline.append(partial(scale, scaler=scaler))\n",
    "    \n",
    "    df_transformed = df_x\n",
    "    \n",
    "#     model = Ridge()\n",
    "#     model.fit(df_transformed, target)\n",
    "#     predictions = make_predictions(df_transformed, model)\n",
    "#     pipeline.append(partial(make_predictions, model=model))\n",
    "    return pipeline, df_transformed#, predictions"
   ]
  },
  {
   "cell_type": "markdown",
   "metadata": {},
   "source": [
    "Model"
   ]
  },
  {
   "cell_type": "code",
   "execution_count": 299,
   "metadata": {},
   "outputs": [],
   "source": [
    "def predict(df_x, pipeline):\n",
    "    result = df_x\n",
    "    for transform in pipeline:\n",
    "        result = transform(result)\n",
    "    return result"
   ]
  },
  {
   "cell_type": "markdown",
   "metadata": {},
   "source": [
    "Assess"
   ]
  },
  {
   "cell_type": "code",
   "execution_count": 300,
   "metadata": {},
   "outputs": [],
   "source": [
    "def root_mean_squared_error(y_true, y_pred):\n",
    "    return np.sqrt(mean_squared_error(y_true, y_pred))"
   ]
  },
  {
   "cell_type": "code",
   "execution_count": 368,
   "metadata": {},
   "outputs": [],
   "source": [
    "def models_factory(base_model, **params):\n",
    "    products = list(product(*params.values()))\n",
    "    configs = pd.DataFrame(data=products, columns=list(params.keys())).to_dict('records')\n",
    "    models = [base_model().set_params(**config) for config in configs]\n",
    "    for model in models:\n",
    "        yield model"
   ]
  },
  {
   "cell_type": "code",
   "execution_count": 383,
   "metadata": {},
   "outputs": [],
   "source": [
    "def assess(model):\n",
    "    print('----------------------------\\n', model, '\\n')\n",
    "    train_err, valid_err, test_err = [], [], []\n",
    "    for i in range(10):\n",
    "        df_x, target = load(1, 'train')\n",
    "        _, y_test = load(1, 'test-target')\n",
    "        x_test, _ = load(1, 'test')\n",
    "\n",
    "        x_train, x_valid, y_train, y_valid = train_test_split(df_x, target, test_size=.2, random_state=i * 1234)\n",
    "\n",
    "    #     pipeline, x_train, train_predictions = create_pipeline(x_train, y_train)\n",
    "        pipeline, x_train = transform_data(x_train, y_train)\n",
    "\n",
    "        model.fit(x_train, y_train)\n",
    "        pipeline.append(partial(make_predictions, model=model))\n",
    "\n",
    "        train_predictions = make_predictions(x_train, model)\n",
    "        train_rmse = root_mean_squared_error(y_train, train_predictions)\n",
    "        train_err.append(train_rmse)\n",
    "\n",
    "        valid_predictions = predict(x_valid, pipeline)\n",
    "        valid_rmse = root_mean_squared_error(y_valid, valid_predictions)\n",
    "        valid_err.append(valid_rmse)\n",
    "\n",
    "        test_predictions = predict(x_test, pipeline)\n",
    "        test_rmse = root_mean_squared_error(y_test, test_predictions)\n",
    "        test_err.append(test_rmse)\n",
    "\n",
    "    #     print('----------------------------')\n",
    "    #     print(f'Train RMSE: {train_rmse}, \\nValidation RMSE: {valid_rmse}, \\nTest RMSE: {test_rmse}')\n",
    "    #     print('----------------------------')\n",
    "    df_err = pd.DataFrame(dict(train=train_err, valid=valid_err, test=test_err))\n",
    "    display(df_err.mean())\n",
    "    df_err.plot(kind='bar')\n",
    "    plt.show()\n",
    "    print('----------------------------')\n",
    "    return df_err"
   ]
  },
  {
   "cell_type": "code",
   "execution_count": 391,
   "metadata": {},
   "outputs": [
    {
     "name": "stdout",
     "output_type": "stream",
     "text": [
      "----------------------------\n",
      " Ridge(alpha=10, copy_X=True, fit_intercept=True, max_iter=None,\n",
      "   normalize=False, random_state=None, solver='auto', tol=0.001) \n",
      "\n"
     ]
    },
    {
     "data": {
      "text/plain": [
       "test     10.516237\n",
       "train     5.458863\n",
       "valid     6.551715\n",
       "dtype: float64"
      ]
     },
     "metadata": {},
     "output_type": "display_data"
    },
    {
     "data": {
      "image/png": "[encoded data removed]",
      "text/plain": [
       "<Figure size 432x288 with 1 Axes>"
      ]
     },
     "metadata": {},
     "output_type": "display_data"
    },
    {
     "name": "stdout",
     "output_type": "stream",
     "text": [
      "----------------------------\n",
      "----------------------------\n",
      " Ridge(alpha=20, copy_X=True, fit_intercept=True, max_iter=None,\n",
      "   normalize=False, random_state=None, solver='auto', tol=0.001) \n",
      "\n"
     ]
    },
    {
     "data": {
      "text/plain": [
       "test     10.431454\n",
       "train     5.543108\n",
       "valid     6.607488\n",
       "dtype: float64"
      ]
     },
     "metadata": {},
     "output_type": "display_data"
    },
    {
     "data": {
      "image/png": "[encoded data removed]",
      "text/plain": [
       "<Figure size 432x288 with 1 Axes>"
      ]
     },
     "metadata": {},
     "output_type": "display_data"
    },
    {
     "name": "stdout",
     "output_type": "stream",
     "text": [
      "----------------------------\n",
      "----------------------------\n",
      " Ridge(alpha=30, copy_X=True, fit_intercept=True, max_iter=None,\n",
      "   normalize=False, random_state=None, solver='auto', tol=0.001) \n",
      "\n"
     ]
    },
    {
     "data": {
      "text/plain": [
       "test     10.428931\n",
       "train     5.640493\n",
       "valid     6.702254\n",
       "dtype: float64"
      ]
     },
     "metadata": {},
     "output_type": "display_data"
    },
    {
     "data": {
      "image/png": "[encoded data removed]",
      "text/plain": [
       "<Figure size 432x288 with 1 Axes>"
      ]
     },
     "metadata": {},
     "output_type": "display_data"
    },
    {
     "name": "stdout",
     "output_type": "stream",
     "text": [
      "----------------------------\n",
      "----------------------------\n",
      " Ridge(alpha=40, copy_X=True, fit_intercept=True, max_iter=None,\n",
      "   normalize=False, random_state=None, solver='auto', tol=0.001) \n",
      "\n"
     ]
    },
    {
     "data": {
      "text/plain": [
       "test     10.459026\n",
       "train     5.746442\n",
       "valid     6.809808\n",
       "dtype: float64"
      ]
     },
     "metadata": {},
     "output_type": "display_data"
    },
    {
     "data": {
      "image/png": "[encoded data removed]",
      "text/plain": [
       "<Figure size 432x288 with 1 Axes>"
      ]
     },
     "metadata": {},
     "output_type": "display_data"
    },
    {
     "name": "stdout",
     "output_type": "stream",
     "text": [
      "----------------------------\n",
      "----------------------------\n",
      " Ridge(alpha=50, copy_X=True, fit_intercept=True, max_iter=None,\n",
      "   normalize=False, random_state=None, solver='auto', tol=0.001) \n",
      "\n"
     ]
    },
    {
     "data": {
      "text/plain": [
       "test     10.510586\n",
       "train     5.858019\n",
       "valid     6.923311\n",
       "dtype: float64"
      ]
     },
     "metadata": {},
     "output_type": "display_data"
    },
    {
     "data": {
      "image/png": "[encoded data removed]",
      "text/plain": [
       "<Figure size 432x288 with 1 Axes>"
      ]
     },
     "metadata": {},
     "output_type": "display_data"
    },
    {
     "name": "stdout",
     "output_type": "stream",
     "text": [
      "----------------------------\n",
      "----------------------------\n",
      " Ridge(alpha=60, copy_X=True, fit_intercept=True, max_iter=None,\n",
      "   normalize=False, random_state=None, solver='auto', tol=0.001) \n",
      "\n"
     ]
    },
    {
     "data": {
      "text/plain": [
       "test     10.577172\n",
       "train     5.973295\n",
       "valid     7.039965\n",
       "dtype: float64"
      ]
     },
     "metadata": {},
     "output_type": "display_data"
    },
    {
     "data": {
      "image/png": "[encoded data removed]",
      "text/plain": [
       "<Figure size 432x288 with 1 Axes>"
      ]
     },
     "metadata": {},
     "output_type": "display_data"
    },
    {
     "name": "stdout",
     "output_type": "stream",
     "text": [
      "----------------------------\n",
      "----------------------------\n",
      " Ridge(alpha=70, copy_X=True, fit_intercept=True, max_iter=None,\n",
      "   normalize=False, random_state=None, solver='auto', tol=0.001) \n",
      "\n"
     ]
    },
    {
     "data": {
      "text/plain": [
       "test     10.654362\n",
       "train     6.090908\n",
       "valid     7.158285\n",
       "dtype: float64"
      ]
     },
     "metadata": {},
     "output_type": "display_data"
    },
    {
     "data": {
      "image/png": "[encoded data removed]",
      "text/plain": [
       "<Figure size 432x288 with 1 Axes>"
      ]
     },
     "metadata": {},
     "output_type": "display_data"
    },
    {
     "name": "stdout",
     "output_type": "stream",
     "text": [
      "----------------------------\n",
      "----------------------------\n",
      " Ridge(alpha=80, copy_X=True, fit_intercept=True, max_iter=None,\n",
      "   normalize=False, random_state=None, solver='auto', tol=0.001) \n",
      "\n"
     ]
    },
    {
     "data": {
      "text/plain": [
       "test     10.739005\n",
       "train     6.209850\n",
       "valid     7.277339\n",
       "dtype: float64"
      ]
     },
     "metadata": {},
     "output_type": "display_data"
    },
    {
     "data": {
      "image/png": "[encoded data removed]",
      "text/plain": [
       "<Figure size 432x288 with 1 Axes>"
      ]
     },
     "metadata": {},
     "output_type": "display_data"
    },
    {
     "name": "stdout",
     "output_type": "stream",
     "text": [
      "----------------------------\n",
      "----------------------------\n",
      " Ridge(alpha=90, copy_X=True, fit_intercept=True, max_iter=None,\n",
      "   normalize=False, random_state=None, solver='auto', tol=0.001) \n",
      "\n"
     ]
    },
    {
     "data": {
      "text/plain": [
       "test     10.828813\n",
       "train     6.329349\n",
       "valid     7.396475\n",
       "dtype: float64"
      ]
     },
     "metadata": {},
     "output_type": "display_data"
    },
    {
     "data": {
      "image/png": "[encoded data removed]",
      "text/plain": [
       "<Figure size 432x288 with 1 Axes>"
      ]
     },
     "metadata": {},
     "output_type": "display_data"
    },
    {
     "name": "stdout",
     "output_type": "stream",
     "text": [
      "----------------------------\n",
      "----------------------------\n",
      " Ridge(alpha=100, copy_X=True, fit_intercept=True, max_iter=None,\n",
      "   normalize=False, random_state=None, solver='auto', tol=0.001) \n",
      "\n"
     ]
    },
    {
     "data": {
      "text/plain": [
       "test     10.922098\n",
       "train     6.448806\n",
       "valid     7.515211\n",
       "dtype: float64"
      ]
     },
     "metadata": {},
     "output_type": "display_data"
    },
    {
     "data": {
      "image/png": "[encoded data removed]",
      "text/plain": [
       "<Figure size 432x288 with 1 Axes>"
      ]
     },
     "metadata": {},
     "output_type": "display_data"
    },
    {
     "name": "stdout",
     "output_type": "stream",
     "text": [
      "----------------------------\n"
     ]
    }
   ],
   "source": [
    "min_error = np.inf\n",
    "best_model = None\n",
    "for model in models_factory(Ridge, alpha=[10, 20, 30, 40, 50, 60, 70, 80, 90, 100], fit_intercept=[True]):\n",
    "    df_err = assess(model)\n",
    "    test_err = df_err.test.mean()\n",
    "    if test_err < min_error:\n",
    "        min_error = test_err\n",
    "        best_model = model"
   ]
  },
  {
   "cell_type": "code",
   "execution_count": 392,
   "metadata": {},
   "outputs": [
    {
     "data": {
      "text/plain": [
       "Ridge(alpha=30, copy_X=True, fit_intercept=True, max_iter=None,\n",
       "   normalize=False, random_state=None, solver='auto', tol=0.001)"
      ]
     },
     "execution_count": 392,
     "metadata": {},
     "output_type": "execute_result"
    }
   ],
   "source": [
    "best_model"
   ]
  },
  {
   "cell_type": "code",
   "execution_count": null,
   "metadata": {},
   "outputs": [],
   "source": []
  }
 ],
 "metadata": {
  "kernelspec": {
   "display_name": "Python 3",
   "language": "python",
   "name": "python3"
  },
  "language_info": {
   "codemirror_mode": {
    "name": "ipython",
    "version": 3
   },
   "file_extension": ".py",
   "mimetype": "text/x-python",
   "name": "python",
   "nbconvert_exporter": "python",
   "pygments_lexer": "ipython3",
   "version": "3.6.3"
  }
 },
 "nbformat": 4,
 "nbformat_minor": 2
}
